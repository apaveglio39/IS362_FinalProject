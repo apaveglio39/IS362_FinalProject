{
 "cells": [
  {
   "cell_type": "markdown",
   "metadata": {},
   "source": [
    "# IS362 Final Project\n",
    "## Data analysis of the US Energy Information Administration (EIA)\n",
    "### Anthony Paveglio\n",
    "---\n",
    "The EIA is a federal agency associated witht he US Department of Energy. The EIA is responsible for collecting data regarding various forms of energy in the US including fossil fuels, renewable energy, and a global outlook on energy and its impact. The usage, production, and transportation of forms of energy are tracked through the EIA.\n",
    "\n",
    "- Fossil Fuel: A natural form of energy such as coal, gas, or oil.\n",
    "- Renewable Energy: Also a natural form of energy collected from sources quicker to replenish such as solar, wind, or hydroelectric.\n",
    "\n",
    "_More info will appear here, in progress..._\n",
    "\n",
    "---"
   ]
  },
  {
   "cell_type": "markdown",
   "metadata": {},
   "source": [
    "# 1. Libraries and Imported files"
   ]
  },
  {
   "cell_type": "code",
   "execution_count": 123,
   "metadata": {},
   "outputs": [],
   "source": [
    "#Necessary libraries and imports\n",
    "import requests\n",
    "import json\n",
    "import pandas\n",
    "import seaborn\n",
    "import numpy\n",
    "import datetime"
   ]
  },
  {
   "cell_type": "markdown",
   "metadata": {},
   "source": [
    "# 2. API Access Request and Handling\n",
    "## Making a connection with US EIA data sources."
   ]
  },
  {
   "cell_type": "code",
   "execution_count": 124,
   "metadata": {},
   "outputs": [
    {
     "name": "stdout",
     "output_type": "stream",
     "text": [
      "Response code from EIA API: 200 OK\n",
      "Amount of time required for request: 0:00:00.095061\n"
     ]
    }
   ],
   "source": [
    "categoryData = requests.get(\n",
    "    \"http://api.eia.gov/category/?api_key=ba1598e22a90a4bb48e3c5bdc55db041&category_id=371&out=json\")\n",
    "\n",
    "print 'Response code from EIA API:', categoryData.status_code, categoryData.reason\n",
    "print 'Amount of time required for request:', categoryData.elapsed"
   ]
  },
  {
   "cell_type": "markdown",
   "metadata": {},
   "source": [
    "## Functions to convert EIA data to usable Python data"
   ]
  },
  {
   "cell_type": "code",
   "execution_count": 125,
   "metadata": {},
   "outputs": [],
   "source": [
    "def JSONtoDataFrameEIA(APIResponse, columnTitles=None):\n",
    "    #Takes the returned data from the API call and converts it into a usable dataframe\n",
    "    #EIA responses contain the actual data and a list of headers embedded in JSON\n",
    "    #Also converts all string date data to a usable datetime\n",
    "    #The EIA structures their dates as 'yyyymm'\n",
    "    #Example: 202001 = 2020/1 = January 2020\n",
    "\n",
    "    #Parameters:\n",
    "    #    APIResponse (mixed): The API response to be parsed into a DataFrame.\n",
    "    #    columnTitles (list, optional): List of column titles to apply over the Dataframe's columns\n",
    "    #         if the columnTitles are not specified in the function call, default titles will be\n",
    "    #         assigned based on the data within the returned API call data\n",
    "\n",
    "    #Returns:\n",
    "    #    EIADataFrame(DataFrame): EIA Data parsed into a Dataframe\n",
    "    \n",
    "    EIADataFrame = pandas.DataFrame(APIResponse.json()['series'][0]['data'])\n",
    "    if columnTitles:\n",
    "        EIADataFrame.columns = columnTitles\n",
    "    else:\n",
    "        EIADataFrame.columns = ['Date', APIResponse.json()['series'][0]['name']]\n",
    "    EIADataFrame['Date'] = pandas.to_datetime(EIADataFrame['Date'], format='%Y%m')\n",
    "    return EIADataFrame"
   ]
  },
  {
   "cell_type": "markdown",
   "metadata": {},
   "source": [
    "# 3. Energy Usage in the United States\n",
    "## Reviewing Fossil and Renewable sources"
   ]
  },
  {
   "cell_type": "code",
   "execution_count": 126,
   "metadata": {
    "scrolled": true
   },
   "outputs": [],
   "source": [
    "fossilFuelGeneric = requests.get(\n",
    "    \"http://api.eia.gov/series/?api_key=ba1598e22a90a4bb48e3c5bdc55db041&series_id=TOTAL.FFTCBUS.M\")\n",
    "\n",
    "fossilFuelData = JSONtoDataFrameEIA(fossilFuelGeneric)"
   ]
  },
  {
   "cell_type": "code",
   "execution_count": 127,
   "metadata": {
    "scrolled": true
   },
   "outputs": [],
   "source": [
    "renewablesGeneric = requests.get(\n",
    "    \"http://api.eia.gov/series/?api_key=ba1598e22a90a4bb48e3c5bdc55db041&series_id=TOTAL.RETCBUS.M\")\n",
    "\n",
    "renewablesData = JSONtoDataFrameEIA(renewablesGeneric)"
   ]
  }
 ],
 "metadata": {
  "kernelspec": {
   "display_name": "Python 2",
   "language": "python",
   "name": "python2"
  },
  "language_info": {
   "codemirror_mode": {
    "name": "ipython",
    "version": 2
   },
   "file_extension": ".py",
   "mimetype": "text/x-python",
   "name": "python",
   "nbconvert_exporter": "python",
   "pygments_lexer": "ipython2",
   "version": "2.7.15"
  }
 },
 "nbformat": 4,
 "nbformat_minor": 2
}
