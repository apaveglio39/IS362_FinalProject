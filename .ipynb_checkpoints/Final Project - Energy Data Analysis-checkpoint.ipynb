{
 "cells": [
  {
   "cell_type": "markdown",
   "metadata": {},
   "source": [
    "# IS362 Final Project\n",
    "## Data analysis of the US Energy Information Administration (EIA)\n",
    "### Anthony Paveglio\n",
    "---\n",
    "The EIA is a federal agency associated witht he US Department of Energy. The EIA is responsible for collecting data regarding various forms of energy in the US including fossil fuels, renewable energy, and a global outlook on energy and its impact. The usage, production, and transportation of forms of energy are tracked through the EIA.\n",
    "\n",
    "- Fossil Fuel: A natural form of energy such as coal, gas, or oil.\n",
    "- Renewable Energy: Also a natural form of energy collected from sources quicker to replenish such as solar, wind, or hydroelectric.\n",
    "\n",
    "_More info will appear here, in progress..._\n",
    "\n",
    "---"
   ]
  },
  {
   "cell_type": "markdown",
   "metadata": {},
   "source": [
    "# 1. Libraries and Imported files"
   ]
  },
  {
   "cell_type": "code",
   "execution_count": 10,
   "metadata": {},
   "outputs": [],
   "source": [
    "#Necessary libraries and imports\n",
    "import requests\n",
    "import json\n",
    "import pandas\n",
    "import seaborn\n",
    "import numpy"
   ]
  },
  {
   "cell_type": "markdown",
   "metadata": {},
   "source": [
    "# 2. API Access Request\n",
    "## Making a connection with US EIA data sources."
   ]
  },
  {
   "cell_type": "code",
   "execution_count": 11,
   "metadata": {},
   "outputs": [
    {
     "name": "stdout",
     "output_type": "stream",
     "text": [
      "Response code from EIA API: 200 OK\n",
      "Amount of time required for request: 0:00:00.111953\n"
     ]
    }
   ],
   "source": [
    "categoryData = requests.get(\n",
    "    \"http://api.eia.gov/category/?api_key=ba1598e22a90a4bb48e3c5bdc55db041&category_id=371&out=json\")\n",
    "\n",
    "print 'Response code from EIA API:', data.status_code, data.reason\n",
    "print 'Amount of time required for request:', data.elapsed"
   ]
  }
 ],
 "metadata": {
  "kernelspec": {
   "display_name": "Python 2",
   "language": "python",
   "name": "python2"
  },
  "language_info": {
   "codemirror_mode": {
    "name": "ipython",
    "version": 2
   },
   "file_extension": ".py",
   "mimetype": "text/x-python",
   "name": "python",
   "nbconvert_exporter": "python",
   "pygments_lexer": "ipython2",
   "version": "2.7.15"
  }
 },
 "nbformat": 4,
 "nbformat_minor": 2
}
